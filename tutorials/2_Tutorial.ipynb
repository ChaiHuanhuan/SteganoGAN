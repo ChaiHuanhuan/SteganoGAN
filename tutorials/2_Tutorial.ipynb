{
 "cells": [
  {
   "cell_type": "markdown",
   "metadata": {
    "colab_type": "text",
    "id": "umIOc4S8J8Ca"
   },
   "source": [
    "# Building your own model with SteganoGAN and MSCOCO"
   ]
  },
  {
   "cell_type": "markdown",
   "metadata": {
    "colab_type": "text",
    "id": "Iv38PB_RKQz3"
   },
   "source": [
    "## Installing and importing"
   ]
  },
  {
   "cell_type": "markdown",
   "metadata": {
    "colab_type": "text",
    "id": "5WEu0HxxKb7m"
   },
   "source": [
    "If you haven't already installed SteganoGAN with PyTorch v1.0.0 (You might have to restart the runtime):"
   ]
  },
  {
   "cell_type": "code",
   "execution_count": null,
   "metadata": {
    "colab": {},
    "colab_type": "code",
    "id": "mnAfjtidKGDd"
   },
   "outputs": [],
   "source": [
    "!pip install steganogan\n",
    "!pip install torch==1.0.0 torchvision==0.2.1"
   ]
  },
  {
   "cell_type": "markdown",
   "metadata": {
    "colab_type": "text",
    "id": "Ut5dxOiDVatf"
   },
   "source": [
    "These packages are necessary in all cases"
   ]
  },
  {
   "cell_type": "code",
   "execution_count": null,
   "metadata": {
    "colab": {},
    "colab_type": "code",
    "id": "c5IlbuwnVZnT"
   },
   "outputs": [],
   "source": [
    "from steganogan import SteganoGAN\n",
    "from steganogan.critics import BasicCritic\n",
    "from steganogan.loader import DataLoader"
   ]
  },
  {
   "cell_type": "markdown",
   "metadata": {
    "colab_type": "text",
    "id": "y8kA8mqiUqNq"
   },
   "source": [
    "The encoder/decoder packages will change based on your architecture: 'Dense', 'Basic', or 'Residual'"
   ]
  },
  {
   "cell_type": "code",
   "execution_count": null,
   "metadata": {
    "colab": {},
    "colab_type": "code",
    "id": "iw2SDwYSTsd_"
   },
   "outputs": [],
   "source": [
    "from steganogan.decoders import [architecture]Decoder\n",
    "from steganogan.encoders import [architecture]Encoder"
   ]
  },
  {
   "cell_type": "markdown",
   "metadata": {
    "colab_type": "text",
    "id": "NU62MlpqVLme"
   },
   "source": [
    "For example:\n",
    "\n",
    "from steganogan.decoders import DenseDecoder\n",
    "\n",
    "from steganogan.encoders import DenseEncoder"
   ]
  },
  {
   "cell_type": "markdown",
   "metadata": {
    "colab_type": "text",
    "id": "S86iwlxgVwQs"
   },
   "source": [
    "##Loading the Data"
   ]
  },
  {
   "cell_type": "markdown",
   "metadata": {
    "colab_type": "text",
    "id": "E70_5SwAXxA6"
   },
   "source": [
    "Download the MSCOCO dataset here:\n",
    "http://cocodataset.org/#download\n",
    "It is a hefty download, so be prepared to wait. You can also use the image dataset of your choice, or even the images stored on your local disk."
   ]
  },
  {
   "cell_type": "markdown",
   "metadata": {
    "colab_type": "text",
    "id": "0lYsnwqcV2Ck"
   },
   "source": [
    "If you want to train on less data, I'd reccommend moving it out of your directory or removing it some other way now"
   ]
  },
  {
   "cell_type": "markdown",
   "metadata": {
    "colab_type": "text",
    "id": "yk5710y9WIa9"
   },
   "source": [
    "Give your batch size while loading the data; The greater the batch size, the greater the number of pictures sent through the network per iteration and the fewer iterations per seconds."
   ]
  },
  {
   "cell_type": "code",
   "execution_count": null,
   "metadata": {
    "colab": {},
    "colab_type": "code",
    "id": "2-vsPxqxVzRf"
   },
   "outputs": [],
   "source": [
    "train = DataLoader([Training data path], batch_size=n)\n",
    "validation = DataLoader([Validation data path],batch_size=n)"
   ]
  },
  {
   "cell_type": "markdown",
   "metadata": {
    "colab_type": "text",
    "id": "VFGnY8StWhBK"
   },
   "source": [
    "## Creating and training the model"
   ]
  },
  {
   "cell_type": "markdown",
   "metadata": {
    "colab_type": "text",
    "id": "FGBl7TcyW3hD"
   },
   "source": [
    "Define the parameters of the model:\n",
    "\n",
    "The hidden size is the size of the convolutional blocks used in the model, and the directory path is where the epochs checkpoint and the metrics will be saved."
   ]
  },
  {
   "cell_type": "code",
   "execution_count": null,
   "metadata": {
    "colab": {},
    "colab_type": "code",
    "id": "sxcwSYQUWgXK"
   },
   "outputs": [],
   "source": [
    "steganogan = SteganoGAN(1, [Architecture]Encoder, [Architecture]Decoder, BasicCritic, hidden_size=n, cuda=True, verbose=True, log_dir=[Directory Path])"
   ]
  },
  {
   "cell_type": "markdown",
   "metadata": {
    "colab_type": "text",
    "id": "jf0sAvmOYv06"
   },
   "source": [
    "Training the model will also take a long time. If you don't have a GPU enabled, it will defult to the CPU."
   ]
  },
  {
   "cell_type": "markdown",
   "metadata": {
    "colab_type": "text",
    "id": "wJ79zR6_ZAkS"
   },
   "source": [
    "The number of training epochs is specified here. Even on a reduced training set of around 25,000 images, the fastest a single epoch was completed on two GPUs was around 45 minutes."
   ]
  },
  {
   "cell_type": "code",
   "execution_count": null,
   "metadata": {
    "colab": {},
    "colab_type": "code",
    "id": "5SLqgVZOY8pj"
   },
   "outputs": [],
   "source": [
    "steganogan.fit(train, validation, epochs=n)"
   ]
  },
  {
   "cell_type": "markdown",
   "metadata": {
    "colab_type": "text",
    "id": "-Cvkcq5UZm5A"
   },
   "source": [
    "##Saving your model"
   ]
  },
  {
   "cell_type": "markdown",
   "metadata": {
    "colab_type": "text",
    "id": "hvMBdWnqZrWH"
   },
   "source": [
    "Once your model is done training, save the .steg for future use."
   ]
  },
  {
   "cell_type": "code",
   "execution_count": null,
   "metadata": {
    "colab": {},
    "colab_type": "code",
    "id": "zknj-E8fZqV_"
   },
   "outputs": [],
   "source": [
    "steganogan.save([modelpath].steg)"
   ]
  },
  {
   "cell_type": "markdown",
   "metadata": {
    "colab_type": "text",
    "id": "uPYDnK1paBkb"
   },
   "source": [
    "#Loading and working with a trained model"
   ]
  },
  {
   "cell_type": "markdown",
   "metadata": {
    "colab_type": "text",
    "id": "X3ls4SFnaG2h"
   },
   "source": [
    "##Loading the model"
   ]
  },
  {
   "cell_type": "markdown",
   "metadata": {
    "colab_type": "text",
    "id": "OmtDeEI7a3oO"
   },
   "source": [
    "If you've trained your own model:"
   ]
  },
  {
   "cell_type": "code",
   "execution_count": null,
   "metadata": {
    "colab": {},
    "colab_type": "code",
    "id": "RYxzpplKaEai"
   },
   "outputs": [],
   "source": [
    "steganogan = SteganoGAN.load(path=[model path], cuda=True)\n"
   ]
  },
  {
   "cell_type": "markdown",
   "metadata": {
    "colab_type": "text",
    "id": "Ldx4twiYbG05"
   },
   "source": [
    "Again, if you don't have a GPU running, it will default to your CPU"
   ]
  },
  {
   "cell_type": "markdown",
   "metadata": {
    "colab_type": "text",
    "id": "QTrnG_0BbMq5"
   },
   "source": [
    "If you're using a pretrained model:"
   ]
  },
  {
   "cell_type": "markdown",
   "metadata": {
    "colab_type": "text",
    "id": "BO8kxyXGbXVX"
   },
   "source": [
    "Choose your architecture: 'dense','residual', or 'basic.'"
   ]
  },
  {
   "cell_type": "code",
   "execution_count": null,
   "metadata": {
    "colab": {},
    "colab_type": "code",
    "id": "H2F8PGFpbKzd"
   },
   "outputs": [],
   "source": [
    "steganogan = StegganoGAN.load(architecture=[architecture], cuda=True)"
   ]
  },
  {
   "cell_type": "markdown",
   "metadata": {
    "colab_type": "text",
    "id": "NydqW0djdlIw"
   },
   "source": []
  },
  {
   "cell_type": "markdown",
   "metadata": {
    "colab_type": "text",
    "id": "2erGOmdbbndn"
   },
   "source": [
    "##Encoding and decoding images"
   ]
  },
  {
   "cell_type": "markdown",
   "metadata": {
    "colab_type": "text",
    "id": "XBLvz2M-cmxs"
   },
   "source": [
    "Download this image from imdb as an example for encoding/decoding:\n",
    "\n"
   ]
  },
  {
   "cell_type": "markdown",
   "metadata": {
    "colab_type": "text",
    "id": "Mh51MQRcc73d"
   },
   "source": [
    "![alt text](https://m.media-amazon.com/images/M/MV5BMTgwNDYyODg5MF5BMl5BanBnXkFtZTcwMjU2NTI3Ng@@._V1_SY100_CR39,0,100,100_AL_.jpg)\n",
    "\n",
    "[Everything the light touches](https://m.media-amazon.com/images/M/MV5BMTgwNDYyODg5MF5BMl5BanBnXkFtZTcwMjU2NTI3Ng@@._V1_SY100_CR39,0,100,100_AL_.jpg)"
   ]
  },
  {
   "cell_type": "markdown",
   "metadata": {
    "colab_type": "text",
    "id": "Gqhuigqre9nb"
   },
   "source": [
    "You have to supply the model the path of the cover image, the path of the hidden image, and of course, your secret message"
   ]
  },
  {
   "cell_type": "code",
   "execution_count": null,
   "metadata": {
    "colab": {},
    "colab_type": "code",
    "id": "s02Q6RLSbpZ4"
   },
   "outputs": [],
   "source": [
    "steganogan.encode(CoverImagePath, HiddenImagePath, SecretMessage)"
   ]
  },
  {
   "cell_type": "markdown",
   "metadata": {
    "colab_type": "text",
    "id": "umfoc05geDcU"
   },
   "source": [
    "If you give a hidden image path that doesn't curently exist, it will create a new image. \n",
    "If you give it the path of another image, it will overwrite that image. \n",
    "I reccommend using a .png compression for the hidden image. Make sure that you get the message 'Encoding completed' before advancing."
   ]
  },
  {
   "cell_type": "markdown",
   "metadata": {
    "colab_type": "text",
    "id": "VYqC7C_Xeld1"
   },
   "source": [
    "Before you decode the image, why not look at the hidden image and try to spot any differences?"
   ]
  },
  {
   "cell_type": "code",
   "execution_count": null,
   "metadata": {
    "colab": {},
    "colab_type": "code",
    "id": "UovqfZnSeQIR"
   },
   "outputs": [],
   "source": [
    "steganogan.decode(HiddenImagePath)"
   ]
  },
  {
   "cell_type": "markdown",
   "metadata": {
    "colab_type": "text",
    "id": "7_b38npwetPe"
   },
   "source": [
    "The decoder will either return the message, or you have evaded detection! "
   ]
  }
 ],
 "metadata": {
  "colab": {
   "collapsed_sections": [
    "umIOc4S8J8Ca",
    "Iv38PB_RKQz3",
    "S86iwlxgVwQs",
    "VFGnY8StWhBK",
    "uPYDnK1paBkb",
    "2erGOmdbbndn"
   ],
   "name": "SteganoGANTutorial.ipynb",
   "provenance": []
  },
  "kernelspec": {
   "display_name": "Python 3",
   "language": "python",
   "name": "python3"
  },
  "language_info": {
   "codemirror_mode": {
    "name": "ipython",
    "version": 3
   },
   "file_extension": ".py",
   "mimetype": "text/x-python",
   "name": "python",
   "nbconvert_exporter": "python",
   "pygments_lexer": "ipython3",
   "version": "3.6.11"
  }
 },
 "nbformat": 4,
 "nbformat_minor": 1
}
